{
 "cells": [
  {
   "cell_type": "code",
   "execution_count": 172,
   "metadata": {},
   "outputs": [],
   "source": [
    "#LIBRARIES\n",
    "import pandas as pd\n",
    "import matplotlib.pyplot as plt"
   ]
  },
  {
   "cell_type": "code",
   "execution_count": 173,
   "metadata": {},
   "outputs": [],
   "source": [
    "#READ FILE + DROP NULL COLUMNS\n",
    "df = pd.read_excel('RA.xlsx', header = 7)\n",
    "df = df.drop(['Unnamed: 1','Unnamed: 28','Unnamed: 29'], axis=1)"
   ]
  },
  {
   "cell_type": "code",
   "execution_count": 174,
   "metadata": {},
   "outputs": [],
   "source": [
    "#HEADER LIST\n",
    "col = list(df.columns.values)\n",
    "c = col[:]\n",
    "unclean_column_names = col[:]\n",
    "col2 = df.iloc[:1,:].values[0]\n",
    "\n",
    "i=2\n",
    "while i < len(col)-3:\n",
    "    x = col[i-1]\n",
    "    while 'Unnamed' in col[i]:\n",
    "        col[i] = x\n",
    "        i = i+1\n",
    "    i = i+1\n",
    "    \n",
    "#INITIALIZE\n",
    "col[0] = 'SEAT NUM'\n",
    "col[i] = 'TOTAL'\n",
    "col[i+1] = 'GPA'\n",
    "col[i+2] = 'RESULT'\n",
    "col2[0] = ''\n",
    "col2[-1] = ''\n",
    "col2[-2] = ''\n",
    "col2[-3] = ''\n",
    "\n",
    "# print(l)\n",
    "cols = list(zip(col,col2))\n",
    "header = [\"-\".join(i).strip('-') for i in cols]"
   ]
  },
  {
   "cell_type": "code",
   "execution_count": 175,
   "metadata": {},
   "outputs": [],
   "source": [
    "newdf = pd.read_excel('RA.xlsx', header = 6)\n",
    "coursenum = list(newdf.columns)\n",
    "coursenum = [i for i in coursenum if 'Unnamed' not in i][1:-5]\n",
    "subject_names = [i for i in unclean_column_names if 'Unnamed' not in i]\n",
    "subjectcodes = dict(zip(coursenum,subject_names))"
   ]
  },
  {
   "cell_type": "code",
   "execution_count": 176,
   "metadata": {},
   "outputs": [],
   "source": [
    "df = df.rename(columns=dict(zip(c, header)))\n",
    "df = df.iloc[3:,:]\n",
    "df.index = pd.RangeIndex(len(df.index))\n",
    "dfmarks = df.loc[::2]\n",
    "dfnames = df.loc[1::2]\n",
    "\n",
    "\n",
    "# dfmarks.loc[:,'NAME'] = dfnames['SEAT NUM'].values\n",
    "dfmarks.loc[:,'NAME'] = dfnames.loc[:,'SEAT NUM'].values\n",
    "dfmarks.index = pd.RangeIndex(len(dfmarks.index))"
   ]
  },
  {
   "cell_type": "code",
   "execution_count": 177,
   "metadata": {},
   "outputs": [],
   "source": [
    "l = [i for i in dfnames.columns if 'TOT' in i][:-1] + list(dfnames.columns[-3:])\n",
    "dfnames = dfnames.drop(l, axis=1)"
   ]
  },
  {
   "cell_type": "code",
   "execution_count": 178,
   "metadata": {},
   "outputs": [],
   "source": [
    "def clean(x):\n",
    "    if x == 'Ab':\n",
    "        return int(0)\n",
    "    x = list(str(x))\n",
    "    if x[-1] == 'E' or  x[-1] == 'F':\n",
    "        return int(\"\".join(x[:-1]))\n",
    "    else:\n",
    "        return int(\"\".join(x))"
   ]
  },
  {
   "cell_type": "code",
   "execution_count": 179,
   "metadata": {},
   "outputs": [],
   "source": [
    "for i in dfmarks.columns[1:-4]:\n",
    "    dfmarks.loc[:,i] = dfmarks.loc[:,i].apply(clean)"
   ]
  },
  {
   "cell_type": "code",
   "execution_count": 180,
   "metadata": {},
   "outputs": [],
   "source": [
    "dfcolumns = list(dfmarks.columns)\n",
    "totalcols = [dfcolumns[0]] + [i for i in dfcolumns if 'TOT' in i]\n",
    "totalcols = totalcols + dfcolumns[-3:]"
   ]
  },
  {
   "cell_type": "code",
   "execution_count": 181,
   "metadata": {},
   "outputs": [],
   "source": [
    "dftotalmarks = dfmarks.loc[:,totalcols]"
   ]
  },
  {
   "cell_type": "code",
   "execution_count": null,
   "metadata": {},
   "outputs": [],
   "source": []
  }
 ],
 "metadata": {
  "kernelspec": {
   "display_name": "Python 3",
   "language": "python",
   "name": "python3"
  },
  "language_info": {
   "codemirror_mode": {
    "name": "ipython",
    "version": 3
   },
   "file_extension": ".py",
   "mimetype": "text/x-python",
   "name": "python",
   "nbconvert_exporter": "python",
   "pygments_lexer": "ipython3",
   "version": "3.7.3"
  }
 },
 "nbformat": 4,
 "nbformat_minor": 2
}

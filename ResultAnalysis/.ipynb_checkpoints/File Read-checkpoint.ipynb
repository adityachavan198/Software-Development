{
 "cells": [
  {
   "cell_type": "code",
   "execution_count": 55,
   "metadata": {},
   "outputs": [],
   "source": [
    "#LIBRARIES\n",
    "import pandas as pd\n",
    "import matplotlib.pyplot as plt"
   ]
  },
  {
   "cell_type": "code",
   "execution_count": 76,
   "metadata": {},
   "outputs": [],
   "source": [
    "#READ FILE + DROP\n",
    "df = pd.read_excel('RA.xlsx', header = 7)\n",
    "df = df.drop(['Unnamed: 1','Unnamed: 28','Unnamed: 29'], axis=1)"
   ]
  },
  {
   "cell_type": "code",
   "execution_count": 77,
   "metadata": {},
   "outputs": [],
   "source": [
    "#HEADER LIST\n",
    "col = list(df.columns.values)\n",
    "c = col[:]\n",
    "col2 = df.iloc[:1,:].values[0]\n",
    "\n",
    "i=2\n",
    "while i < len(col)-3:\n",
    "    x = col[i-1]\n",
    "    while 'Unnamed' in col[i]:\n",
    "        col[i] = x\n",
    "        i = i+1\n",
    "    i = i+1\n",
    "    \n",
    "#INITIALIZE\n",
    "col[0] = 'SEAT NUM'\n",
    "col[i] = 'TOTAL'\n",
    "col[i+1] = 'GPA'\n",
    "col[i+2] = 'RESULT'\n",
    "col2[0] = ''\n",
    "col2[-1] = ''\n",
    "col2[-2] = ''\n",
    "col2[-3] = ''\n",
    "\n",
    "# print(l)\n",
    "cols = list(zip(col,col2))\n",
    "header = [\"-\".join(i).strip('-') for i in cols]"
   ]
  },
  {
   "cell_type": "code",
   "execution_count": 78,
   "metadata": {},
   "outputs": [
    {
     "data": {
      "text/plain": [
       "['SEAT NUM',\n",
       " 'APPLIED MATHEMATICS III-ESE ',\n",
       " 'APPLIED MATHEMATICS III-IA ',\n",
       " 'APPLIED MATHEMATICS III-TOT',\n",
       " 'THERMODYNAMICS-ESE ',\n",
       " 'THERMODYNAMICS-IA ',\n",
       " 'THERMODYNAMICS-TOT',\n",
       " 'STRENGTH OF MATERIALS-ESE ',\n",
       " 'STRENGTH OF MATERIALS-IA ',\n",
       " 'STRENGTH OF MATERIALS-TOT',\n",
       " 'PRODUCTION PROCESS I-ESE ',\n",
       " 'PRODUCTION PROCESS I-IA ',\n",
       " 'PRODUCTION PROCESS I-TOT',\n",
       " 'MATERIAL TECHNOLOGY-ESE ',\n",
       " 'MATERIAL TECHNOLOGY-IA ',\n",
       " 'MATERIAL TECHNOLOGY-TOT',\n",
       " 'COMPUTER AIDED MACHINE DRAWING -PR OR',\n",
       " 'COMPUTER AIDED MACHINE DRAWING -TW',\n",
       " 'COMPUTER AIDED MACHINE DRAWING -TOT',\n",
       " 'STRENGTH OF MATERIALS.1-PR OR',\n",
       " 'STRENGTH OF MATERIALS.1-TW',\n",
       " 'STRENGTH OF MATERIALS.1-TOT',\n",
       " 'MATERIAL TECHNOLOGY.1-TW',\n",
       " 'MACHINE SHOP PRACTICE I-TW',\n",
       " 'TOTAL',\n",
       " 'GPA',\n",
       " 'RESULT']"
      ]
     },
     "execution_count": 78,
     "metadata": {},
     "output_type": "execute_result"
    }
   ],
   "source": [
    "header"
   ]
  },
  {
   "cell_type": "code",
   "execution_count": 79,
   "metadata": {},
   "outputs": [
    {
     "name": "stderr",
     "output_type": "stream",
     "text": [
      "/anaconda3/lib/python3.7/site-packages/ipykernel_launcher.py:8: SettingWithCopyWarning: \n",
      "A value is trying to be set on a copy of a slice from a DataFrame.\n",
      "Try using .loc[row_indexer,col_indexer] = value instead\n",
      "\n",
      "See the caveats in the documentation: http://pandas.pydata.org/pandas-docs/stable/indexing.html#indexing-view-versus-copy\n",
      "  \n"
     ]
    }
   ],
   "source": [
    "df = df.rename(columns=dict(zip(c, header)))\n",
    "df = df.iloc[3:,:]\n",
    "df.index = pd.RangeIndex(len(df.index))\n",
    "dfmarks = df.loc[::2]\n",
    "dfnames = df.loc[1::2]\n",
    "\n",
    "\n",
    "dfmarks['NAME'] = dfnames['SEAT NUM'].values\n",
    "\n",
    "dfmarks.index = pd.RangeIndex(len(dfmarks.index))"
   ]
  },
  {
   "cell_type": "code",
   "execution_count": 80,
   "metadata": {},
   "outputs": [],
   "source": [
    "l = [i for i in dfnames.columns if 'TOT' in i][:-1] + list(dfnames.columns[-3:])\n",
    "dfnames = dfnames.drop(l, axis=1)"
   ]
  },
  {
   "cell_type": "code",
   "execution_count": 81,
   "metadata": {},
   "outputs": [],
   "source": [
    "def clean(x):\n",
    "    if x == 'Ab':\n",
    "        return int(0)\n",
    "    x = list(str(x))\n",
    "    if x[-1] == 'E' or  x[-1] == 'F':\n",
    "        return int(\"\".join(x[:-1]))\n",
    "    else:\n",
    "        return int(\"\".join(x))"
   ]
  },
  {
   "cell_type": "code",
   "execution_count": 82,
   "metadata": {},
   "outputs": [
    {
     "data": {
      "text/plain": [
       "Index(['APPLIED MATHEMATICS III-ESE ', 'APPLIED MATHEMATICS III-IA ',\n",
       "       'APPLIED MATHEMATICS III-TOT', 'THERMODYNAMICS-ESE ',\n",
       "       'THERMODYNAMICS-IA ', 'THERMODYNAMICS-TOT',\n",
       "       'STRENGTH OF MATERIALS-ESE ', 'STRENGTH OF MATERIALS-IA ',\n",
       "       'STRENGTH OF MATERIALS-TOT', 'PRODUCTION PROCESS I-ESE ',\n",
       "       'PRODUCTION PROCESS I-IA ', 'PRODUCTION PROCESS I-TOT',\n",
       "       'MATERIAL TECHNOLOGY-ESE ', 'MATERIAL TECHNOLOGY-IA ',\n",
       "       'MATERIAL TECHNOLOGY-TOT', 'COMPUTER AIDED MACHINE DRAWING -PR OR',\n",
       "       'COMPUTER AIDED MACHINE DRAWING -TW',\n",
       "       'COMPUTER AIDED MACHINE DRAWING -TOT', 'STRENGTH OF MATERIALS.1-PR OR',\n",
       "       'STRENGTH OF MATERIALS.1-TW', 'STRENGTH OF MATERIALS.1-TOT',\n",
       "       'MATERIAL TECHNOLOGY.1-TW', 'MACHINE SHOP PRACTICE I-TW'],\n",
       "      dtype='object')"
      ]
     },
     "execution_count": 82,
     "metadata": {},
     "output_type": "execute_result"
    }
   ],
   "source": [
    "dfmarks.columns[1:-4]"
   ]
  },
  {
   "cell_type": "code",
   "execution_count": 83,
   "metadata": {},
   "outputs": [
    {
     "name": "stderr",
     "output_type": "stream",
     "text": [
      "/anaconda3/lib/python3.7/site-packages/ipykernel_launcher.py:2: SettingWithCopyWarning: \n",
      "A value is trying to be set on a copy of a slice from a DataFrame.\n",
      "Try using .loc[row_indexer,col_indexer] = value instead\n",
      "\n",
      "See the caveats in the documentation: http://pandas.pydata.org/pandas-docs/stable/indexing.html#indexing-view-versus-copy\n",
      "  \n"
     ]
    }
   ],
   "source": [
    "for i in dfmarks.columns[1:-4]:\n",
    "    dfmarks[i] = dfmarks[i].apply(clean)"
   ]
  },
  {
   "cell_type": "code",
   "execution_count": 84,
   "metadata": {},
   "outputs": [],
   "source": [
    "# for i in dfmarks.columns[1:-4]:\n",
    "#     print(\"Median of \"+str(i)+\" is :- \", str(dfmarks[i].median()))\n",
    "#     print(\"Max of \"+str(i)+\" is :- \", str(dfmarks[i].max()))"
   ]
  },
  {
   "cell_type": "code",
   "execution_count": 89,
   "metadata": {},
   "outputs": [],
   "source": [
    "# dfmarks"
   ]
  },
  {
   "cell_type": "code",
   "execution_count": 87,
   "metadata": {},
   "outputs": [],
   "source": [
    "dfcolumns = list(dfmarks.columns)\n",
    "totalcols = [dfcolumns[0]] + [i for i in dfcolumns if 'TOT' in i]\n",
    "totalcols = totalcols + dfcolumns[-3:]"
   ]
  },
  {
   "cell_type": "code",
   "execution_count": 88,
   "metadata": {},
   "outputs": [
    {
     "data": {
      "text/plain": [
       "['SEAT NUM',\n",
       " 'APPLIED MATHEMATICS III-TOT',\n",
       " 'THERMODYNAMICS-TOT',\n",
       " 'STRENGTH OF MATERIALS-TOT',\n",
       " 'PRODUCTION PROCESS I-TOT',\n",
       " 'MATERIAL TECHNOLOGY-TOT',\n",
       " 'COMPUTER AIDED MACHINE DRAWING -TOT',\n",
       " 'STRENGTH OF MATERIALS.1-TOT',\n",
       " 'TOTAL',\n",
       " 'GPA',\n",
       " 'RESULT',\n",
       " 'NAME']"
      ]
     },
     "execution_count": 88,
     "metadata": {},
     "output_type": "execute_result"
    }
   ],
   "source": [
    "totalcols"
   ]
  },
  {
   "cell_type": "code",
   "execution_count": null,
   "metadata": {},
   "outputs": [],
   "source": []
  }
 ],
 "metadata": {
  "kernelspec": {
   "display_name": "Python 3",
   "language": "python",
   "name": "python3"
  },
  "language_info": {
   "codemirror_mode": {
    "name": "ipython",
    "version": 3
   },
   "file_extension": ".py",
   "mimetype": "text/x-python",
   "name": "python",
   "nbconvert_exporter": "python",
   "pygments_lexer": "ipython3",
   "version": "3.7.3"
  }
 },
 "nbformat": 4,
 "nbformat_minor": 2
}
